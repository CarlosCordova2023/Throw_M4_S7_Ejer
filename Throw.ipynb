{
  "nbformat": 4,
  "nbformat_minor": 0,
  "metadata": {
    "colab": {
      "provenance": [],
      "authorship_tag": "ABX9TyMAJU+oothgwd7grlT4aIch",
      "include_colab_link": true
    },
    "kernelspec": {
      "name": "python3",
      "display_name": "Python 3"
    },
    "language_info": {
      "name": "python"
    }
  },
  "cells": [
    {
      "cell_type": "markdown",
      "metadata": {
        "id": "view-in-github",
        "colab_type": "text"
      },
      "source": [
        "<a href=\"https://colab.research.google.com/github/CarlosCordova2023/Throw_M4_S7_Ejer/blob/main/Throw.ipynb\" target=\"_parent\"><img src=\"https://colab.research.google.com/assets/colab-badge.svg\" alt=\"Open In Colab\"/></a>"
      ]
    },
    {
      "cell_type": "code",
      "execution_count": 2,
      "metadata": {
        "colab": {
          "base_uri": "https://localhost:8080/"
        },
        "id": "LrVWlFTrcs6u",
        "outputId": "f6a2e578-deaa-41bc-f999-d4df1536b8d0"
      },
      "outputs": [
        {
          "output_type": "stream",
          "name": "stdout",
          "text": [
            "Por favor, ingrese su edad: ddd\n",
            "Entrada inválida. Por favor, ingrese un número entero.\n",
            "Por favor, ingrese su edad: r\n",
            "Entrada inválida. Por favor, ingrese un número entero.\n",
            "Por favor, ingrese su edad: r\n",
            "Entrada inválida. Por favor, ingrese un número entero.\n",
            "Por favor, ingrese su edad: r\n",
            "Entrada inválida. Por favor, ingrese un número entero.\n",
            "Por favor, ingrese su edad: 23\n",
            "Es Adulto.\n"
          ]
        }
      ],
      "source": [
        "def pedir_edad():\n",
        "    while True:\n",
        "        try:\n",
        "            edad = int(input(\"Por favor, ingrese su edad: \"))\n",
        "            return edad\n",
        "        except ValueError:\n",
        "            print(\"Entrada inválida. Por favor, ingrese un número entero.\")\n",
        "\n",
        "def evaluar_adulto(edad):\n",
        "    if edad >= 18:\n",
        "        print(\"Es Adulto.\")\n",
        "    else:\n",
        "        print(\"No es un adulto.\")\n",
        "\n",
        "def main():\n",
        "    edad = pedir_edad()\n",
        "    evaluar_adulto(edad)\n",
        "\n",
        "if __name__ == \"__main__\":\n",
        "    main()\n"
      ]
    }
  ]
}